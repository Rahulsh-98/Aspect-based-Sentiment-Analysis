{
 "cells": [
  {
   "cell_type": "code",
   "execution_count": 57,
   "id": "7b41cadf-611a-494e-81bd-0a4a028a4ac8",
   "metadata": {
    "tags": []
   },
   "outputs": [],
   "source": [
    "import pandas as pd\n",
    "import torch\n",
    "from transformers import RobertaTokenizerFast, RobertaForTokenClassification, AdamW\n",
    "from torch.utils.data import Dataset, DataLoader\n",
    "from sklearn.model_selection import train_test_split\n",
    "from tqdm import tqdm\n",
    "import numpy as np\n",
    "from sklearn.metrics import accuracy_score, precision_score, recall_score, f1_score\n"
   ]
  },
  {
   "cell_type": "code",
   "execution_count": 59,
   "id": "3db33ba6-305b-420c-bfb1-664c228fff3a",
   "metadata": {
    "tags": []
   },
   "outputs": [
    {
     "name": "stdout",
     "output_type": "stream",
     "text": [
      "Sample texts: ['But the staff was so horrible to us.', \"To be completely fair, the only redeeming factor was the food, which was above average, but couldn't make up for all the other deficiencies of Teodora.\", \"The food is uniformly exceptional, with a very capable kitchen which will proudly whip up whatever you feel like eating, whether it's on the menu or not.\"]\n",
      "Sample aspect_terms: [\"[{'term': 'staff', 'polarity': 'negative'}]\", \"[{'term': 'food', 'polarity': 'positive'}]\", \"[{'term': 'food', 'polarity': 'positive'}, {'term': 'kitchen', 'polarity': 'positive'}, {'term': 'menu', 'polarity': 'neutral'}]\"]\n"
     ]
    }
   ],
   "source": [
    "df_labeled = pd.read_csv('C:/Users/Devanand J/Desktop/Final/Subset2000/Restaurants_Train2021.csv')\n",
    "texts = df_labeled['comments'].tolist()\n",
    "aspect_terms = df_labeled['aspectTerms'].tolist()\n",
    "\n",
    "\n",
    "print(f\"Sample texts: {texts[:3]}\")\n",
    "print(f\"Sample aspect_terms: {aspect_terms[:3]}\")\n",
    "\n"
   ]
  },
  {
   "cell_type": "code",
   "execution_count": 60,
   "id": "a545688f-035c-413b-89b1-fa8e5fcdb71a",
   "metadata": {
    "tags": []
   },
   "outputs": [
    {
     "name": "stderr",
     "output_type": "stream",
     "text": [
      "C:\\Users\\Devanand J\\anaconda3\\envs\\gpt_cuda118\\Lib\\site-packages\\huggingface_hub\\file_download.py:1132: FutureWarning: `resume_download` is deprecated and will be removed in version 1.0.0. Downloads always resume when possible. If you want to force a new download, use `force_download=True`.\n",
      "  warnings.warn(\n"
     ]
    },
    {
     "name": "stdout",
     "output_type": "stream",
     "text": [
      "Text 0: But the staff was so horrible to us.\n",
      "Tokenized Text 0: ['<s>', 'But', 'Ġthe', 'Ġstaff', 'Ġwas', 'Ġso', 'Ġhorrible', 'Ġto', 'Ġus', '.', '</s>', '<pad>', '<pad>', '<pad>', '<pad>', '<pad>', '<pad>', '<pad>', '<pad>', '<pad>', '<pad>', '<pad>', '<pad>', '<pad>', '<pad>', '<pad>', '<pad>', '<pad>', '<pad>', '<pad>', '<pad>', '<pad>', '<pad>', '<pad>', '<pad>', '<pad>', '<pad>', '<pad>', '<pad>', '<pad>', '<pad>', '<pad>', '<pad>', '<pad>', '<pad>', '<pad>', '<pad>', '<pad>', '<pad>', '<pad>', '<pad>', '<pad>', '<pad>', '<pad>', '<pad>', '<pad>', '<pad>', '<pad>', '<pad>', '<pad>', '<pad>', '<pad>', '<pad>', '<pad>', '<pad>', '<pad>', '<pad>', '<pad>', '<pad>', '<pad>', '<pad>', '<pad>', '<pad>', '<pad>', '<pad>', '<pad>', '<pad>', '<pad>', '<pad>', '<pad>', '<pad>', '<pad>', '<pad>', '<pad>', '<pad>', '<pad>']\n",
      "Labels 0: [0, 0, 0, 3, 0, 0, 0, 0, 0, 0, 0, 0, 0, 0, 0, 0, 0, 0, 0, 0, 0, 0, 0, 0, 0, 0, 0, 0, 0, 0, 0, 0, 0, 0, 0, 0, 0, 0, 0, 0, 0, 0, 0, 0, 0, 0, 0, 0, 0, 0, 0, 0, 0, 0, 0, 0, 0, 0, 0, 0, 0, 0, 0, 0, 0, 0, 0, 0, 0, 0, 0, 0, 0, 0, 0, 0, 0, 0, 0, 0, 0, 0, 0, 0, 0, 0]\n",
      "Text 1: To be completely fair, the only redeeming factor was the food, which was above average, but couldn't make up for all the other deficiencies of Teodora.\n",
      "Tokenized Text 1: ['<s>', 'To', 'Ġbe', 'Ġcompletely', 'Ġfair', ',', 'Ġthe', 'Ġonly', 'Ġredeem', 'ing', 'Ġfactor', 'Ġwas', 'Ġthe', 'Ġfood', ',', 'Ġwhich', 'Ġwas', 'Ġabove', 'Ġaverage', ',', 'Ġbut', 'Ġcouldn', \"'t\", 'Ġmake', 'Ġup', 'Ġfor', 'Ġall', 'Ġthe', 'Ġother', 'Ġdeficiencies', 'Ġof', 'ĠTe', 'od', 'ora', '.', '</s>', '<pad>', '<pad>', '<pad>', '<pad>', '<pad>', '<pad>', '<pad>', '<pad>', '<pad>', '<pad>', '<pad>', '<pad>', '<pad>', '<pad>', '<pad>', '<pad>', '<pad>', '<pad>', '<pad>', '<pad>', '<pad>', '<pad>', '<pad>', '<pad>', '<pad>', '<pad>', '<pad>', '<pad>', '<pad>', '<pad>', '<pad>', '<pad>', '<pad>', '<pad>', '<pad>', '<pad>', '<pad>', '<pad>', '<pad>', '<pad>', '<pad>', '<pad>', '<pad>', '<pad>', '<pad>', '<pad>', '<pad>', '<pad>', '<pad>', '<pad>']\n",
      "Labels 1: [0, 0, 0, 0, 0, 0, 0, 0, 0, 0, 0, 0, 0, 1, 0, 0, 0, 0, 0, 0, 0, 0, 0, 0, 0, 0, 0, 0, 0, 0, 0, 0, 0, 0, 0, 0, 0, 0, 0, 0, 0, 0, 0, 0, 0, 0, 0, 0, 0, 0, 0, 0, 0, 0, 0, 0, 0, 0, 0, 0, 0, 0, 0, 0, 0, 0, 0, 0, 0, 0, 0, 0, 0, 0, 0, 0, 0, 0, 0, 0, 0, 0, 0, 0, 0, 0]\n",
      "Text 2: The food is uniformly exceptional, with a very capable kitchen which will proudly whip up whatever you feel like eating, whether it's on the menu or not.\n",
      "Tokenized Text 2: ['<s>', 'The', 'Ġfood', 'Ġis', 'Ġuniformly', 'Ġexceptional', ',', 'Ġwith', 'Ġa', 'Ġvery', 'Ġcapable', 'Ġkitchen', 'Ġwhich', 'Ġwill', 'Ġproudly', 'Ġwhip', 'Ġup', 'Ġwhatever', 'Ġyou', 'Ġfeel', 'Ġlike', 'Ġeating', ',', 'Ġwhether', 'Ġit', \"'s\", 'Ġon', 'Ġthe', 'Ġmenu', 'Ġor', 'Ġnot', '.', '</s>', '<pad>', '<pad>', '<pad>', '<pad>', '<pad>', '<pad>', '<pad>', '<pad>', '<pad>', '<pad>', '<pad>', '<pad>', '<pad>', '<pad>', '<pad>', '<pad>', '<pad>', '<pad>', '<pad>', '<pad>', '<pad>', '<pad>', '<pad>', '<pad>', '<pad>', '<pad>', '<pad>', '<pad>', '<pad>', '<pad>', '<pad>', '<pad>', '<pad>', '<pad>', '<pad>', '<pad>', '<pad>', '<pad>', '<pad>', '<pad>', '<pad>', '<pad>', '<pad>', '<pad>', '<pad>', '<pad>', '<pad>', '<pad>', '<pad>', '<pad>', '<pad>', '<pad>', '<pad>']\n",
      "Labels 2: [0, 0, 1, 0, 0, 0, 0, 0, 0, 0, 0, 1, 0, 0, 0, 0, 0, 0, 0, 0, 0, 0, 0, 0, 0, 0, 0, 0, 5, 0, 0, 0, 0, 0, 0, 0, 0, 0, 0, 0, 0, 0, 0, 0, 0, 0, 0, 0, 0, 0, 0, 0, 0, 0, 0, 0, 0, 0, 0, 0, 0, 0, 0, 0, 0, 0, 0, 0, 0, 0, 0, 0, 0, 0, 0, 0, 0, 0, 0, 0, 0, 0, 0, 0, 0, 0]\n",
      "Input IDs Shape: torch.Size([2021, 86])\n",
      "Labels Shape: 2021, 86\n"
     ]
    }
   ],
   "source": [
    "# Initializing tokenizer\n",
    "tokenizer = RobertaTokenizerFast.from_pretrained('roberta-base')\n",
    "\n",
    "label_map = {\n",
    "    'O': 0,\n",
    "    'B-POS': 1,\n",
    "    'I-POS': 2,\n",
    "    'B-NEG': 3,\n",
    "    'I-NEG': 4,\n",
    "    'B-NEU': 5,\n",
    "    'I-NEU': 6\n",
    "}\n",
    "\n",
    "def encode_labels_with_offsets(texts, aspect_info_list):\n",
    "    all_labels = []\n",
    "    for i, text in enumerate(texts):\n",
    "        encoded_dict = tokenizer.encode_plus(\n",
    "            text,\n",
    "            return_offsets_mapping=True,\n",
    "            truncation=True,\n",
    "            padding='max_length',\n",
    "            max_length=86,  \n",
    "            return_tensors='pt'\n",
    "        )\n",
    "        \n",
    "        input_ids = encoded_dict['input_ids'][0]\n",
    "        offsets = encoded_dict['offset_mapping'][0]\n",
    "        labels = ['O'] * len(input_ids)\n",
    "        \n",
    "        aspect_info = eval(aspect_info_list[i])\n",
    "        \n",
    "        for aspect in aspect_info:\n",
    "            aspect_term = aspect['term']\n",
    "            aspect_polarity = aspect['polarity']\n",
    "            aspect_start = text.find(aspect_term)\n",
    "            aspect_end = aspect_start + len(aspect_term)\n",
    "            \n",
    "            for j, (start, end) in enumerate(offsets):\n",
    "                if start >= aspect_start and end <= aspect_end:\n",
    "                    polarity_tag = 'POS' if aspect_polarity == 'positive' else 'NEG' if aspect_polarity == 'negative' else 'NEU'\n",
    "                    if start == aspect_start:\n",
    "                        labels[j] = f'B-{polarity_tag}'\n",
    "                    else:\n",
    "                        labels[j] = f'I-{polarity_tag}'\n",
    "        \n",
    "        all_labels.append([label_map[label] for label in labels])\n",
    "    return all_labels\n",
    "\n",
    "# Encoding the labels and tokenizing texts\n",
    "labels = encode_labels_with_offsets(texts, aspect_terms)\n",
    "inputs = tokenizer(texts, padding=True, truncation=True, return_tensors=\"pt\")\n",
    "\n",
    "# Ensure all labels are the same length as input_ids\n",
    "max_len = inputs['input_ids'].shape[1]\n",
    "labels = [label + [0]*(max_len - len(label)) for label in labels]\n",
    "\n",
    "#Printing the first few tokenized texts and their labels\n",
    "for i in range(3):\n",
    "    print(f\"Text {i}: {texts[i]}\")\n",
    "    print(f\"Tokenized Text {i}: {tokenizer.convert_ids_to_tokens(inputs['input_ids'][i])}\")\n",
    "    print(f\"Labels {i}: {labels[i]}\")\n",
    "\n",
    "print(f\"Input IDs Shape: {inputs['input_ids'].shape}\")\n",
    "print(f\"Labels Shape: {len(labels)}, {len(labels[0])}\")\n"
   ]
  },
  {
   "cell_type": "code",
   "execution_count": 61,
   "id": "da4998eb-192c-46c5-b024-47f0b1dcbe8f",
   "metadata": {
    "tags": []
   },
   "outputs": [
    {
     "name": "stdout",
     "output_type": "stream",
     "text": [
      "Train Input IDs Shape: torch.Size([1818, 86])\n",
      "Validation Input IDs Shape: torch.Size([203, 86])\n",
      "Train Labels Shape: 1818, 86\n",
      "Validation Labels Shape: 203, 86\n"
     ]
    }
   ],
   "source": [
    "from sklearn.model_selection import train_test_split\n",
    "\n",
    "input_ids_train, input_ids_val, attention_mask_train, attention_mask_val, labels_train, labels_val = train_test_split(\n",
    "    inputs['input_ids'], inputs['attention_mask'], labels, test_size=0.1, random_state=42)\n",
    "\n",
    "print(f\"Train Input IDs Shape: {input_ids_train.shape}\")\n",
    "print(f\"Validation Input IDs Shape: {input_ids_val.shape}\")\n",
    "print(f\"Train Labels Shape: {len(labels_train)}, {len(labels_train[0])}\")\n",
    "print(f\"Validation Labels Shape: {len(labels_val)}, {len(labels_val[0])}\")\n"
   ]
  },
  {
   "cell_type": "code",
   "execution_count": 62,
   "id": "91172d1f-cc3f-4d1a-9fb7-112199eee29a",
   "metadata": {
    "tags": []
   },
   "outputs": [
    {
     "name": "stdout",
     "output_type": "stream",
     "text": [
      "Train DataLoader Size: 228\n",
      "Validation DataLoader Size: 26\n"
     ]
    }
   ],
   "source": [
    "#Creating Dataset and DataLoader\n",
    "import torch\n",
    "from torch.utils.data import Dataset, DataLoader\n",
    "\n",
    "class TextDataset(Dataset):\n",
    "    def __init__(self, input_ids, attention_masks, labels):\n",
    "        self.input_ids = input_ids\n",
    "        self.attention_masks = attention_masks\n",
    "        self.labels = labels\n",
    "\n",
    "    def __getitem__(self, idx):\n",
    "        item = {\n",
    "            'input_ids': self.input_ids[idx],\n",
    "            'attention_mask': self.attention_masks[idx],\n",
    "            'labels': torch.tensor(self.labels[idx], dtype=torch.long)\n",
    "        }\n",
    "        return item\n",
    "\n",
    "    def __len__(self):\n",
    "        return len(self.labels)\n",
    "\n",
    "def collate_fn(batch):\n",
    "    input_ids = torch.stack([item['input_ids'] for item in batch])\n",
    "    attention_masks = torch.stack([item['attention_mask'] for item in batch])\n",
    "    labels = torch.stack([item['labels'] for item in batch])\n",
    "    return {\n",
    "        'input_ids': input_ids,\n",
    "        'attention_mask': attention_masks,\n",
    "        'labels': labels\n",
    "    }\n",
    "\n",
    "train_dataset = TextDataset(input_ids_train, attention_mask_train, labels_train)\n",
    "val_dataset = TextDataset(input_ids_val, attention_mask_val, labels_val)\n",
    "\n",
    "train_loader = DataLoader(train_dataset, batch_size=8, shuffle=True, collate_fn=collate_fn)\n",
    "val_loader = DataLoader(val_dataset, batch_size=8, shuffle=False, collate_fn=collate_fn)\n",
    "\n",
    "\n",
    "print(f\"Train DataLoader Size: {len(train_loader)}\")\n",
    "print(f\"Validation DataLoader Size: {len(val_loader)}\")\n"
   ]
  },
  {
   "cell_type": "code",
   "execution_count": 63,
   "id": "c8837f2d-f675-4244-8882-514f6a987c3f",
   "metadata": {
    "tags": []
   },
   "outputs": [
    {
     "name": "stdout",
     "output_type": "stream",
     "text": [
      "Input IDs Shape: torch.Size([8, 86])\n",
      "Labels Shape: torch.Size([8, 86])\n"
     ]
    }
   ],
   "source": [
    "\n",
    "for batch in train_loader:\n",
    "    inputs = {key: val.to(device) for key, val in batch.items()}\n",
    "    print(f\"Input IDs Shape: {inputs['input_ids'].shape}\")\n",
    "    print(f\"Labels Shape: {inputs['labels'].shape}\")\n",
    "    break\n"
   ]
  },
  {
   "cell_type": "code",
   "execution_count": 64,
   "id": "c816e013-7ac5-4629-b26a-e08732e858f0",
   "metadata": {
    "tags": []
   },
   "outputs": [
    {
     "name": "stderr",
     "output_type": "stream",
     "text": [
      "Some weights of RobertaForTokenClassification were not initialized from the model checkpoint at roberta-base and are newly initialized: ['classifier.bias', 'classifier.weight']\n",
      "You should probably TRAIN this model on a down-stream task to be able to use it for predictions and inference.\n",
      "C:\\Users\\Devanand J\\anaconda3\\envs\\gpt_cuda118\\Lib\\site-packages\\transformers\\optimization.py:429: FutureWarning: This implementation of AdamW is deprecated and will be removed in a future version. Use the PyTorch implementation torch.optim.AdamW instead, or set `no_deprecation_warning=True` to disable this warning\n",
      "  warnings.warn(\n"
     ]
    }
   ],
   "source": [
    "#Initializing Model and Optimizer\n",
    "from transformers import RobertaForTokenClassification, AdamW\n",
    "\n",
    "num_labels = len(label_map)  # O, B-POS, I-POS, B-NEG, I-NEG, B-NEU, I-NEU\n",
    "model = RobertaForTokenClassification.from_pretrained('roberta-base', num_labels=num_labels)\n",
    "model.to(device)\n",
    "optimizer = AdamW(model.parameters(), lr=5e-5)\n"
   ]
  },
  {
   "cell_type": "code",
   "execution_count": 38,
   "id": "be8f2b0e-a6ff-4e48-a17d-432f63baceb4",
   "metadata": {
    "tags": []
   },
   "outputs": [
    {
     "name": "stderr",
     "output_type": "stream",
     "text": [
      "100%|██████████| 228/228 [01:12<00:00,  3.15it/s]\n"
     ]
    },
    {
     "name": "stdout",
     "output_type": "stream",
     "text": [
      "Epoch 1, Average Training Loss: 0.29598154310594527\n"
     ]
    },
    {
     "name": "stderr",
     "output_type": "stream",
     "text": [
      "C:\\Users\\Devanand J\\anaconda3\\envs\\gpt_cuda118\\Lib\\site-packages\\sklearn\\metrics\\_classification.py:1509: UndefinedMetricWarning: Precision is ill-defined and being set to 0.0 in labels with no predicted samples. Use `zero_division` parameter to control this behavior.\n",
      "  _warn_prf(average, modifier, f\"{metric.capitalize()} is\", len(result))\n"
     ]
    },
    {
     "name": "stdout",
     "output_type": "stream",
     "text": [
      "Epoch 1, Validation Loss: 0.15019741869316652\n",
      "Validation Accuracy: 0.958299919807538\n",
      "Validation Precision: 0.32416442027869125\n",
      "Validation Recall: 0.37297570305714756\n",
      "Validation F1 Score: 0.3456396441008063\n"
     ]
    },
    {
     "name": "stderr",
     "output_type": "stream",
     "text": [
      "100%|██████████| 228/228 [01:11<00:00,  3.18it/s]\n"
     ]
    },
    {
     "name": "stdout",
     "output_type": "stream",
     "text": [
      "Epoch 2, Average Training Loss: 0.1643337031434241\n"
     ]
    },
    {
     "name": "stderr",
     "output_type": "stream",
     "text": [
      "C:\\Users\\Devanand J\\anaconda3\\envs\\gpt_cuda118\\Lib\\site-packages\\sklearn\\metrics\\_classification.py:1509: UndefinedMetricWarning: Precision is ill-defined and being set to 0.0 in labels with no predicted samples. Use `zero_division` parameter to control this behavior.\n",
      "  _warn_prf(average, modifier, f\"{metric.capitalize()} is\", len(result))\n"
     ]
    },
    {
     "name": "stdout",
     "output_type": "stream",
     "text": [
      "Epoch 2, Validation Loss: 0.1307322155111111\n",
      "Validation Accuracy: 0.9465001718409898\n",
      "Validation Precision: 0.3249057037822078\n",
      "Validation Recall: 0.3620175126959416\n",
      "Validation F1 Score: 0.3399764162783792\n"
     ]
    },
    {
     "name": "stderr",
     "output_type": "stream",
     "text": [
      "100%|██████████| 228/228 [01:11<00:00,  3.18it/s]\n"
     ]
    },
    {
     "name": "stdout",
     "output_type": "stream",
     "text": [
      "Epoch 3, Average Training Loss: 0.12663272470072434\n",
      "Epoch 3, Validation Loss: 0.1465809830965904\n",
      "Validation Accuracy: 0.9352732271737885\n",
      "Validation Precision: 0.4081582725408645\n",
      "Validation Recall: 0.3907110688527213\n",
      "Validation F1 Score: 0.3642889531997326\n"
     ]
    },
    {
     "name": "stderr",
     "output_type": "stream",
     "text": [
      "C:\\Users\\Devanand J\\anaconda3\\envs\\gpt_cuda118\\Lib\\site-packages\\sklearn\\metrics\\_classification.py:1509: UndefinedMetricWarning: Precision is ill-defined and being set to 0.0 in labels with no predicted samples. Use `zero_division` parameter to control this behavior.\n",
      "  _warn_prf(average, modifier, f\"{metric.capitalize()} is\", len(result))\n"
     ]
    }
   ],
   "source": [
    "# Training \n",
    "from tqdm import tqdm\n",
    "from sklearn.metrics import accuracy_score, precision_score, recall_score, f1_score\n",
    "\n",
    "epochs = 3\n",
    "for epoch in range(epochs):\n",
    "    model.train()\n",
    "    total_loss = 0\n",
    "    for batch in tqdm(train_loader):\n",
    "        inputs = {key: val.to(device) for key, val in batch.items()}\n",
    "        optimizer.zero_grad()\n",
    "        outputs = model(**inputs)\n",
    "        loss = outputs.loss\n",
    "        total_loss += loss.item()\n",
    "        loss.backward()\n",
    "        optimizer.step()\n",
    "    avg_train_loss = total_loss / len(train_loader)\n",
    "    print(f\"Epoch {epoch + 1}, Average Training Loss: {avg_train_loss}\")\n",
    "\n",
    "    # Validation loop\n",
    "    model.eval()\n",
    "    val_loss = 0\n",
    "    predictions = []\n",
    "    true_labels = []\n",
    "    for batch in val_loader:\n",
    "        with torch.no_grad():\n",
    "            inputs = {key: val.to(device) for key, val in batch.items()}\n",
    "            outputs = model(**inputs)\n",
    "            val_loss += outputs.loss.item()\n",
    "            logits = outputs.logits\n",
    "            predictions.extend(logits.argmax(dim=-1).cpu().numpy())\n",
    "            true_labels.extend(inputs['labels'].cpu().numpy())\n",
    "\n",
    "    avg_val_loss = val_loss / len(val_loader)\n",
    "    print(f\"Epoch {epoch + 1}, Validation Loss: {avg_val_loss}\")\n",
    "\n",
    "    # Flatten true labels and predictions for evaluation\n",
    "    true_labels_flat = [label for sublist in true_labels for label in sublist]\n",
    "    pred_labels_flat = [pred for sublist in predictions for pred in sublist]\n",
    "\n",
    "    accuracy = accuracy_score(true_labels_flat, pred_labels_flat)\n",
    "    precision = precision_score(true_labels_flat, pred_labels_flat, average='macro')\n",
    "    recall = recall_score(true_labels_flat, pred_labels_flat, average='macro')\n",
    "    f1 = f1_score(true_labels_flat, pred_labels_flat, average='macro')\n",
    "\n",
    "    print(f\"Validation Accuracy: {accuracy}\")\n",
    "    print(f\"Validation Precision: {precision}\")\n",
    "    print(f\"Validation Recall: {recall}\")\n",
    "    print(f\"Validation F1 Score: {f1}\")\n"
   ]
  },
  {
   "cell_type": "code",
   "execution_count": 39,
   "id": "3e087f38-7d74-4b5f-aba4-407d55bf2675",
   "metadata": {
    "tags": []
   },
   "outputs": [
    {
     "name": "stderr",
     "output_type": "stream",
     "text": [
      "100%|██████████| 125/125 [07:50<00:00,  3.77s/it]"
     ]
    },
    {
     "name": "stdout",
     "output_type": "stream",
     "text": [
      "Sample Predictions: [array([0, 0, 1, 0, 1, 0, 1, 0, 0, 0, 0, 0, 0, 0, 0, 0, 1, 0, 0, 2, 0, 0,\n",
      "       0, 1, 0, 1, 0, 0, 0, 5, 0, 1, 2, 0, 0, 0, 0, 0, 0, 0, 0, 0, 0, 0,\n",
      "       0, 5, 2, 0, 0, 0, 0, 0, 0, 0, 0, 5, 0, 0, 0, 0, 0, 0, 0, 0, 0, 0,\n",
      "       0, 0, 0, 0, 0, 0, 0, 0, 0, 0, 0, 0, 0, 0, 0, 0, 0, 0, 0, 0, 0, 0,\n",
      "       0, 0, 0, 0, 0, 0, 0, 0, 0, 0, 0, 0, 0, 0, 0, 0, 0, 0, 0, 0, 0, 0,\n",
      "       0, 0, 0, 0, 0, 0, 0, 0, 0, 0, 0, 0, 0, 0, 0, 0, 0, 0, 0, 0, 0, 0,\n",
      "       0, 0, 0, 0, 0, 0, 0, 0, 0, 0, 0, 0, 0, 0, 0, 0, 0, 0, 0, 0, 0, 0,\n",
      "       0, 0, 0, 0, 0, 0, 0, 0, 0, 0, 0, 0, 0, 0, 0, 0, 0, 0, 0, 0, 0, 0,\n",
      "       0, 0, 0, 0, 0, 0, 0, 0, 0, 0, 0, 0, 0, 0, 0, 0, 0, 0, 0, 0, 0, 0,\n",
      "       0, 0, 0, 0, 0, 0, 0, 0, 0, 0, 0, 0, 0, 0, 0, 0, 0, 0, 0, 0, 0, 0,\n",
      "       0, 0, 0, 0, 0, 0, 0, 0, 0, 0, 0, 0, 0, 0, 0, 0, 0, 0, 0, 0, 0, 0,\n",
      "       0, 0, 0, 0, 0, 0, 0, 0, 0, 0, 0, 0, 0, 0, 0, 0, 0, 0, 0, 0, 0, 0,\n",
      "       0, 0, 0, 0, 0, 0, 0, 0, 0, 0, 0, 0, 0, 0, 0, 0, 0, 0, 0, 0, 0, 0,\n",
      "       0, 0, 0, 0, 0, 0, 0, 0, 0, 0, 0, 0, 0, 0, 0, 0, 0, 0, 0, 0, 0, 0,\n",
      "       0, 0, 0, 0, 0, 0, 0, 0, 0, 0, 0, 0, 0, 0, 0, 0, 0, 0, 0, 0, 0, 0,\n",
      "       0, 0, 0, 0, 0, 0, 0, 0, 0, 0, 0, 0, 0, 0, 0, 0, 0, 0, 0, 0, 0, 0,\n",
      "       0, 0, 0, 0, 0, 0, 0, 0, 0, 0, 0, 0, 0, 0, 0, 0, 0, 0, 0, 0, 0, 0,\n",
      "       0, 0, 0, 0, 0, 0, 0, 0, 0, 0, 0, 0, 0, 0, 0, 0, 0, 0, 0, 0, 0, 0,\n",
      "       0, 0, 0, 0, 0, 0, 0, 0, 0, 0, 0, 0, 0, 0, 0, 0, 0, 0, 0, 0, 0, 0,\n",
      "       0, 0, 0, 0, 0, 0, 0, 0, 0, 0, 0, 0, 0, 0, 0, 0, 0, 0, 0, 0, 0, 0,\n",
      "       0, 0, 0, 0, 0, 0, 0, 0, 0, 0, 0, 0, 0, 0, 0, 0, 0, 0, 0, 0, 0, 0,\n",
      "       0, 0, 0, 0, 0, 0, 0, 0, 0, 0, 0, 0, 0, 0, 0, 0, 0, 0, 0, 0, 0, 0,\n",
      "       0, 0, 0, 0, 0, 0, 0, 0, 0, 0, 0, 0, 0, 0, 0, 0, 0, 0, 0, 0, 0, 0,\n",
      "       0, 0, 0, 0, 0, 0], dtype=int64), array([0, 0, 0, 0, 0, 0, 1, 2, 2, 2, 0, 0, 0, 0, 0, 0, 0, 0, 0, 0, 0, 0,\n",
      "       0, 0, 0, 0, 0, 0, 0, 0, 0, 0, 0, 0, 0, 0, 0, 0, 0, 0, 1, 0, 0, 0,\n",
      "       0, 0, 0, 0, 0, 0, 1, 2, 2, 2, 2, 0, 1, 2, 2, 0, 1, 2, 2, 2, 0, 0,\n",
      "       0, 0, 0, 1, 2, 2, 1, 2, 2, 0, 0, 0, 0, 0, 0, 0, 0, 0, 0, 0, 0, 0,\n",
      "       0, 0, 0, 0, 0, 0, 5, 0, 5, 0, 0, 0, 0, 0, 0, 1, 2, 2, 0, 0, 0, 0,\n",
      "       0, 0, 0, 0, 0, 0, 5, 5, 0, 0, 0, 0, 0, 0, 0, 0, 0, 0, 0, 0, 0, 0,\n",
      "       0, 0, 0, 0, 0, 0, 0, 0, 0, 0, 0, 0, 0, 2, 2, 2, 0, 0, 0, 0, 0, 0,\n",
      "       0, 0, 0, 0, 0, 0, 0, 0, 0, 0, 0, 0, 0, 0, 0, 0, 0, 0, 0, 0, 0, 0,\n",
      "       0, 0, 0, 0, 0, 0, 0, 0, 0, 0, 0, 0, 0, 0, 0, 0, 0, 0, 0, 0, 0, 0,\n",
      "       0, 0, 0, 0, 0, 0, 0, 0, 0, 0, 0, 0, 0, 0, 0, 0, 0, 0, 0, 0, 0, 0,\n",
      "       0, 0, 0, 0, 0, 0, 0, 0, 0, 0, 0, 0, 0, 0, 0, 0, 0, 0, 0, 0, 0, 0,\n",
      "       0, 0, 0, 0, 0, 0, 0, 0, 0, 0, 0, 0, 0, 0, 0, 0, 0, 0, 0, 0, 0, 0,\n",
      "       0, 0, 0, 0, 0, 0, 0, 0, 0, 0, 0, 0, 0, 0, 0, 0, 0, 0, 0, 0, 0, 0,\n",
      "       0, 0, 0, 0, 0, 0, 0, 0, 0, 0, 0, 0, 0, 0, 0, 0, 0, 0, 0, 0, 0, 0,\n",
      "       0, 0, 0, 0, 0, 0, 0, 0, 0, 0, 0, 0, 0, 0, 0, 0, 0, 0, 0, 0, 0, 0,\n",
      "       0, 0, 0, 0, 0, 0, 0, 0, 0, 0, 0, 0, 0, 0, 0, 0, 0, 0, 0, 0, 0, 0,\n",
      "       0, 0, 0, 0, 0, 0, 0, 0, 0, 0, 0, 0, 0, 0, 0, 0, 0, 0, 0, 0, 0, 0,\n",
      "       0, 0, 0, 0, 0, 0, 0, 0, 0, 0, 0, 0, 0, 0, 0, 0, 0, 0, 0, 0, 0, 0,\n",
      "       0, 0, 0, 0, 0, 0, 0, 0, 0, 0, 0, 0, 0, 0, 0, 0, 0, 0, 0, 0, 0, 0,\n",
      "       0, 0, 0, 0, 0, 0, 0, 0, 0, 0, 0, 0, 0, 0, 0, 0, 0, 0, 0, 0, 0, 0,\n",
      "       0, 0, 0, 0, 0, 0, 0, 0, 0, 0, 0, 0, 0, 0, 0, 0, 0, 0, 0, 0, 0, 0,\n",
      "       0, 0, 0, 0, 0, 0, 0, 0, 0, 0, 0, 0, 0, 0, 0, 0, 0, 0, 0, 0, 0, 0,\n",
      "       0, 0, 0, 0, 0, 0, 0, 0, 0, 0, 0, 0, 0, 0, 0, 0, 0, 0, 0, 0, 0, 0,\n",
      "       0, 0, 0, 0, 0, 0], dtype=int64), array([0, 0, 0, 0, 0, 0, 0, 0, 0, 0, 0, 0, 0, 0, 0, 0, 0, 0, 0, 0, 0, 0,\n",
      "       0, 0, 0, 0, 0, 0, 0, 0, 0, 0, 0, 0, 0, 0, 0, 0, 0, 0, 0, 0, 0, 0,\n",
      "       0, 0, 0, 0, 0, 0, 0, 0, 0, 0, 0, 0, 0, 0, 0, 0, 0, 0, 0, 0, 0, 0,\n",
      "       0, 0, 0, 0, 0, 0, 0, 0, 0, 0, 0, 0, 0, 0, 0, 0, 0, 0, 0, 0, 0, 0,\n",
      "       0, 0, 0, 0, 0, 0, 0, 0, 0, 0, 2, 2, 2, 2, 0, 0, 2, 2, 0, 0, 0, 0,\n",
      "       0, 0, 0, 0, 0, 0, 0, 0, 0, 0, 0, 0, 0, 0, 0, 0, 0, 0, 0, 0, 0, 0,\n",
      "       0, 0, 0, 0, 2, 2, 0, 0, 0, 0, 0, 0, 0, 0, 0, 0, 0, 0, 0, 0, 0, 0,\n",
      "       0, 0, 0, 0, 0, 0, 0, 0, 0, 0, 0, 0, 0, 0, 0, 0, 0, 0, 0, 0, 0, 0,\n",
      "       0, 0, 0, 0, 0, 0, 0, 0, 0, 0, 0, 0, 0, 0, 0, 0, 0, 0, 0, 0, 0, 0,\n",
      "       0, 0, 0, 0, 0, 0, 0, 0, 0, 0, 0, 0, 0, 0, 0, 0, 0, 0, 0, 0, 0, 0,\n",
      "       0, 0, 0, 0, 0, 0, 0, 0, 0, 0, 0, 0, 0, 0, 0, 0, 0, 0, 0, 0, 0, 0,\n",
      "       0, 0, 0, 0, 0, 0, 0, 0, 0, 0, 0, 0, 0, 0, 0, 0, 0, 0, 0, 0, 0, 0,\n",
      "       0, 0, 0, 0, 0, 0, 0, 0, 0, 0, 0, 0, 0, 0, 0, 0, 0, 0, 0, 0, 0, 0,\n",
      "       0, 0, 0, 0, 0, 0, 0, 0, 0, 0, 0, 0, 0, 0, 0, 0, 0, 0, 0, 0, 0, 0,\n",
      "       0, 0, 0, 0, 0, 0, 0, 0, 0, 0, 0, 0, 0, 0, 0, 0, 0, 0, 0, 0, 0, 0,\n",
      "       0, 0, 0, 0, 0, 0, 0, 0, 0, 0, 0, 0, 0, 0, 0, 0, 0, 0, 0, 0, 0, 0,\n",
      "       0, 0, 0, 0, 0, 0, 0, 0, 0, 0, 0, 0, 0, 0, 0, 0, 0, 0, 0, 0, 0, 0,\n",
      "       0, 0, 0, 0, 0, 0, 0, 0, 0, 0, 0, 0, 0, 0, 0, 0, 0, 0, 0, 0, 0, 0,\n",
      "       0, 0, 0, 0, 0, 0, 0, 0, 0, 0, 0, 0, 0, 0, 0, 0, 0, 0, 0, 0, 0, 0,\n",
      "       0, 0, 0, 0, 0, 0, 0, 0, 0, 0, 0, 0, 0, 0, 0, 0, 0, 0, 0, 0, 0, 0,\n",
      "       0, 0, 0, 0, 0, 0, 0, 0, 0, 0, 0, 0, 0, 0, 0, 0, 0, 0, 0, 0, 0, 0,\n",
      "       0, 0, 0, 0, 0, 0, 0, 0, 0, 0, 0, 0, 0, 0, 0, 0, 0, 0, 0, 0, 0, 0,\n",
      "       0, 0, 0, 0, 0, 0, 0, 0, 0, 0, 0, 0, 0, 0, 0, 0, 0, 0, 0, 0, 0, 0,\n",
      "       0, 0, 0, 0, 0, 0], dtype=int64)]\n"
     ]
    },
    {
     "name": "stderr",
     "output_type": "stream",
     "text": [
      "\n"
     ]
    }
   ],
   "source": [
    "#Applying the Model to Unlabeled Data\n",
    "\n",
    "df_unlabeled = pd.read_csv('C:/Users/Devanand J/Desktop/Final/Yelp_dataset.csv')\n",
    "unlabeled_texts = df_unlabeled['preprocessed_comments'].tolist()\n",
    "\n",
    "unlabeled_inputs = tokenizer(unlabeled_texts, padding=True, truncation=True, return_tensors=\"pt\")\n",
    "\n",
    "unlabeled_loader = DataLoader(TextDataset(unlabeled_inputs['input_ids'], unlabeled_inputs['attention_mask'], [0]*len(unlabeled_texts)), batch_size=16, shuffle=False, collate_fn=collate_fn)\n",
    "\n",
    "def predict(model, dataloader):\n",
    "    model.eval()\n",
    "    predictions = []\n",
    "    for batch in tqdm(dataloader):\n",
    "        inputs = {key: val.to(device) for key, val in batch.items() if key != 'labels'}\n",
    "        with torch.no_grad():\n",
    "            outputs = model(**inputs)\n",
    "        logits = outputs.logits\n",
    "        predictions.extend(logits.argmax(dim=-1).cpu().numpy())\n",
    "    return predictions\n",
    "\n",
    "predictions = predict(model, unlabeled_loader)\n",
    "\n",
    "# predictions\n",
    "print(f\"Sample Predictions: {predictions[:3]}\")\n",
    "\n"
   ]
  },
  {
   "cell_type": "code",
   "execution_count": 40,
   "id": "7f3cf113-f2b8-4ce3-a0fe-d74842416a18",
   "metadata": {
    "tags": []
   },
   "outputs": [
    {
     "name": "stdout",
     "output_type": "stream",
     "text": [
      "Sample Decoded Predictions: [['O', 'O', 'B-POS', 'O', 'B-POS', 'O', 'B-POS', 'O', 'O', 'O', 'O', 'O', 'O', 'O', 'O', 'O', 'B-POS', 'O', 'O', 'I-POS', 'O', 'O', 'O', 'B-POS', 'O', 'B-POS', 'O', 'O', 'O', 'B-NEU', 'O', 'B-POS', 'I-POS', 'O', 'O', 'O', 'O', 'O', 'O', 'O', 'O', 'O', 'O', 'O', 'O', 'B-NEU', 'I-POS', 'O', 'O', 'O', 'O', 'O', 'O', 'O', 'O', 'B-NEU', 'O', 'O', 'O', 'O', 'O', 'O', 'O', 'O', 'O', 'O', 'O', 'O', 'O', 'O', 'O', 'O', 'O', 'O', 'O', 'O', 'O', 'O', 'O', 'O', 'O', 'O', 'O', 'O', 'O', 'O', 'O', 'O', 'O', 'O', 'O', 'O', 'O', 'O', 'O', 'O', 'O', 'O', 'O', 'O', 'O', 'O', 'O', 'O', 'O', 'O', 'O', 'O', 'O', 'O', 'O', 'O', 'O', 'O', 'O', 'O', 'O', 'O', 'O', 'O', 'O', 'O', 'O', 'O', 'O', 'O', 'O', 'O', 'O', 'O', 'O', 'O', 'O', 'O', 'O', 'O', 'O', 'O', 'O', 'O', 'O', 'O', 'O', 'O', 'O', 'O', 'O', 'O', 'O', 'O', 'O', 'O', 'O', 'O', 'O', 'O', 'O', 'O', 'O', 'O', 'O', 'O', 'O', 'O', 'O', 'O', 'O', 'O', 'O', 'O', 'O', 'O', 'O', 'O', 'O', 'O', 'O', 'O', 'O', 'O', 'O', 'O', 'O', 'O', 'O', 'O', 'O', 'O', 'O', 'O', 'O', 'O', 'O', 'O', 'O', 'O', 'O', 'O', 'O', 'O', 'O', 'O', 'O', 'O', 'O', 'O', 'O', 'O', 'O', 'O', 'O', 'O', 'O', 'O', 'O', 'O', 'O', 'O', 'O', 'O', 'O', 'O', 'O', 'O', 'O', 'O', 'O', 'O', 'O', 'O', 'O', 'O', 'O', 'O', 'O', 'O', 'O', 'O', 'O', 'O', 'O', 'O', 'O', 'O', 'O', 'O', 'O', 'O', 'O', 'O', 'O', 'O', 'O', 'O', 'O', 'O', 'O', 'O', 'O', 'O', 'O', 'O', 'O', 'O', 'O', 'O', 'O', 'O', 'O', 'O', 'O', 'O', 'O', 'O', 'O', 'O', 'O', 'O', 'O', 'O', 'O', 'O', 'O', 'O', 'O', 'O', 'O', 'O', 'O', 'O', 'O', 'O', 'O', 'O', 'O', 'O', 'O', 'O', 'O', 'O', 'O', 'O', 'O', 'O', 'O', 'O', 'O', 'O', 'O', 'O', 'O', 'O', 'O', 'O', 'O', 'O', 'O', 'O', 'O', 'O', 'O', 'O', 'O', 'O', 'O', 'O', 'O', 'O', 'O', 'O', 'O', 'O', 'O', 'O', 'O', 'O', 'O', 'O', 'O', 'O', 'O', 'O', 'O', 'O', 'O', 'O', 'O', 'O', 'O', 'O', 'O', 'O', 'O', 'O', 'O', 'O', 'O', 'O', 'O', 'O', 'O', 'O', 'O', 'O', 'O', 'O', 'O', 'O', 'O', 'O', 'O', 'O', 'O', 'O', 'O', 'O', 'O', 'O', 'O', 'O', 'O', 'O', 'O', 'O', 'O', 'O', 'O', 'O', 'O', 'O', 'O', 'O', 'O', 'O', 'O', 'O', 'O', 'O', 'O', 'O', 'O', 'O', 'O', 'O', 'O', 'O', 'O', 'O', 'O', 'O', 'O', 'O', 'O', 'O', 'O', 'O', 'O', 'O', 'O', 'O', 'O', 'O', 'O', 'O', 'O', 'O', 'O', 'O', 'O', 'O', 'O', 'O', 'O', 'O', 'O', 'O', 'O', 'O', 'O', 'O', 'O', 'O', 'O', 'O', 'O', 'O', 'O', 'O', 'O', 'O', 'O', 'O', 'O', 'O', 'O', 'O', 'O', 'O', 'O', 'O', 'O', 'O', 'O', 'O', 'O', 'O', 'O', 'O', 'O', 'O', 'O', 'O', 'O', 'O', 'O', 'O', 'O', 'O', 'O', 'O', 'O', 'O', 'O', 'O', 'O', 'O', 'O', 'O', 'O', 'O', 'O', 'O', 'O', 'O', 'O', 'O', 'O', 'O', 'O', 'O', 'O', 'O', 'O', 'O', 'O', 'O', 'O', 'O', 'O', 'O', 'O', 'O'], ['O', 'O', 'O', 'O', 'O', 'O', 'B-POS', 'I-POS', 'I-POS', 'I-POS', 'O', 'O', 'O', 'O', 'O', 'O', 'O', 'O', 'O', 'O', 'O', 'O', 'O', 'O', 'O', 'O', 'O', 'O', 'O', 'O', 'O', 'O', 'O', 'O', 'O', 'O', 'O', 'O', 'O', 'O', 'B-POS', 'O', 'O', 'O', 'O', 'O', 'O', 'O', 'O', 'O', 'B-POS', 'I-POS', 'I-POS', 'I-POS', 'I-POS', 'O', 'B-POS', 'I-POS', 'I-POS', 'O', 'B-POS', 'I-POS', 'I-POS', 'I-POS', 'O', 'O', 'O', 'O', 'O', 'B-POS', 'I-POS', 'I-POS', 'B-POS', 'I-POS', 'I-POS', 'O', 'O', 'O', 'O', 'O', 'O', 'O', 'O', 'O', 'O', 'O', 'O', 'O', 'O', 'O', 'O', 'O', 'O', 'O', 'B-NEU', 'O', 'B-NEU', 'O', 'O', 'O', 'O', 'O', 'O', 'B-POS', 'I-POS', 'I-POS', 'O', 'O', 'O', 'O', 'O', 'O', 'O', 'O', 'O', 'O', 'B-NEU', 'B-NEU', 'O', 'O', 'O', 'O', 'O', 'O', 'O', 'O', 'O', 'O', 'O', 'O', 'O', 'O', 'O', 'O', 'O', 'O', 'O', 'O', 'O', 'O', 'O', 'O', 'O', 'O', 'O', 'I-POS', 'I-POS', 'I-POS', 'O', 'O', 'O', 'O', 'O', 'O', 'O', 'O', 'O', 'O', 'O', 'O', 'O', 'O', 'O', 'O', 'O', 'O', 'O', 'O', 'O', 'O', 'O', 'O', 'O', 'O', 'O', 'O', 'O', 'O', 'O', 'O', 'O', 'O', 'O', 'O', 'O', 'O', 'O', 'O', 'O', 'O', 'O', 'O', 'O', 'O', 'O', 'O', 'O', 'O', 'O', 'O', 'O', 'O', 'O', 'O', 'O', 'O', 'O', 'O', 'O', 'O', 'O', 'O', 'O', 'O', 'O', 'O', 'O', 'O', 'O', 'O', 'O', 'O', 'O', 'O', 'O', 'O', 'O', 'O', 'O', 'O', 'O', 'O', 'O', 'O', 'O', 'O', 'O', 'O', 'O', 'O', 'O', 'O', 'O', 'O', 'O', 'O', 'O', 'O', 'O', 'O', 'O', 'O', 'O', 'O', 'O', 'O', 'O', 'O', 'O', 'O', 'O', 'O', 'O', 'O', 'O', 'O', 'O', 'O', 'O', 'O', 'O', 'O', 'O', 'O', 'O', 'O', 'O', 'O', 'O', 'O', 'O', 'O', 'O', 'O', 'O', 'O', 'O', 'O', 'O', 'O', 'O', 'O', 'O', 'O', 'O', 'O', 'O', 'O', 'O', 'O', 'O', 'O', 'O', 'O', 'O', 'O', 'O', 'O', 'O', 'O', 'O', 'O', 'O', 'O', 'O', 'O', 'O', 'O', 'O', 'O', 'O', 'O', 'O', 'O', 'O', 'O', 'O', 'O', 'O', 'O', 'O', 'O', 'O', 'O', 'O', 'O', 'O', 'O', 'O', 'O', 'O', 'O', 'O', 'O', 'O', 'O', 'O', 'O', 'O', 'O', 'O', 'O', 'O', 'O', 'O', 'O', 'O', 'O', 'O', 'O', 'O', 'O', 'O', 'O', 'O', 'O', 'O', 'O', 'O', 'O', 'O', 'O', 'O', 'O', 'O', 'O', 'O', 'O', 'O', 'O', 'O', 'O', 'O', 'O', 'O', 'O', 'O', 'O', 'O', 'O', 'O', 'O', 'O', 'O', 'O', 'O', 'O', 'O', 'O', 'O', 'O', 'O', 'O', 'O', 'O', 'O', 'O', 'O', 'O', 'O', 'O', 'O', 'O', 'O', 'O', 'O', 'O', 'O', 'O', 'O', 'O', 'O', 'O', 'O', 'O', 'O', 'O', 'O', 'O', 'O', 'O', 'O', 'O', 'O', 'O', 'O', 'O', 'O', 'O', 'O', 'O', 'O', 'O', 'O', 'O', 'O', 'O', 'O', 'O', 'O', 'O', 'O', 'O', 'O', 'O', 'O', 'O', 'O', 'O', 'O', 'O', 'O', 'O', 'O', 'O', 'O', 'O', 'O', 'O', 'O', 'O', 'O', 'O', 'O', 'O', 'O', 'O', 'O', 'O', 'O', 'O', 'O', 'O', 'O', 'O', 'O', 'O', 'O', 'O', 'O', 'O', 'O', 'O', 'O', 'O', 'O', 'O', 'O', 'O', 'O', 'O', 'O', 'O', 'O', 'O', 'O', 'O', 'O', 'O', 'O', 'O', 'O'], ['O', 'O', 'O', 'O', 'O', 'O', 'O', 'O', 'O', 'O', 'O', 'O', 'O', 'O', 'O', 'O', 'O', 'O', 'O', 'O', 'O', 'O', 'O', 'O', 'O', 'O', 'O', 'O', 'O', 'O', 'O', 'O', 'O', 'O', 'O', 'O', 'O', 'O', 'O', 'O', 'O', 'O', 'O', 'O', 'O', 'O', 'O', 'O', 'O', 'O', 'O', 'O', 'O', 'O', 'O', 'O', 'O', 'O', 'O', 'O', 'O', 'O', 'O', 'O', 'O', 'O', 'O', 'O', 'O', 'O', 'O', 'O', 'O', 'O', 'O', 'O', 'O', 'O', 'O', 'O', 'O', 'O', 'O', 'O', 'O', 'O', 'O', 'O', 'O', 'O', 'O', 'O', 'O', 'O', 'O', 'O', 'O', 'O', 'I-POS', 'I-POS', 'I-POS', 'I-POS', 'O', 'O', 'I-POS', 'I-POS', 'O', 'O', 'O', 'O', 'O', 'O', 'O', 'O', 'O', 'O', 'O', 'O', 'O', 'O', 'O', 'O', 'O', 'O', 'O', 'O', 'O', 'O', 'O', 'O', 'O', 'O', 'O', 'O', 'O', 'O', 'I-POS', 'I-POS', 'O', 'O', 'O', 'O', 'O', 'O', 'O', 'O', 'O', 'O', 'O', 'O', 'O', 'O', 'O', 'O', 'O', 'O', 'O', 'O', 'O', 'O', 'O', 'O', 'O', 'O', 'O', 'O', 'O', 'O', 'O', 'O', 'O', 'O', 'O', 'O', 'O', 'O', 'O', 'O', 'O', 'O', 'O', 'O', 'O', 'O', 'O', 'O', 'O', 'O', 'O', 'O', 'O', 'O', 'O', 'O', 'O', 'O', 'O', 'O', 'O', 'O', 'O', 'O', 'O', 'O', 'O', 'O', 'O', 'O', 'O', 'O', 'O', 'O', 'O', 'O', 'O', 'O', 'O', 'O', 'O', 'O', 'O', 'O', 'O', 'O', 'O', 'O', 'O', 'O', 'O', 'O', 'O', 'O', 'O', 'O', 'O', 'O', 'O', 'O', 'O', 'O', 'O', 'O', 'O', 'O', 'O', 'O', 'O', 'O', 'O', 'O', 'O', 'O', 'O', 'O', 'O', 'O', 'O', 'O', 'O', 'O', 'O', 'O', 'O', 'O', 'O', 'O', 'O', 'O', 'O', 'O', 'O', 'O', 'O', 'O', 'O', 'O', 'O', 'O', 'O', 'O', 'O', 'O', 'O', 'O', 'O', 'O', 'O', 'O', 'O', 'O', 'O', 'O', 'O', 'O', 'O', 'O', 'O', 'O', 'O', 'O', 'O', 'O', 'O', 'O', 'O', 'O', 'O', 'O', 'O', 'O', 'O', 'O', 'O', 'O', 'O', 'O', 'O', 'O', 'O', 'O', 'O', 'O', 'O', 'O', 'O', 'O', 'O', 'O', 'O', 'O', 'O', 'O', 'O', 'O', 'O', 'O', 'O', 'O', 'O', 'O', 'O', 'O', 'O', 'O', 'O', 'O', 'O', 'O', 'O', 'O', 'O', 'O', 'O', 'O', 'O', 'O', 'O', 'O', 'O', 'O', 'O', 'O', 'O', 'O', 'O', 'O', 'O', 'O', 'O', 'O', 'O', 'O', 'O', 'O', 'O', 'O', 'O', 'O', 'O', 'O', 'O', 'O', 'O', 'O', 'O', 'O', 'O', 'O', 'O', 'O', 'O', 'O', 'O', 'O', 'O', 'O', 'O', 'O', 'O', 'O', 'O', 'O', 'O', 'O', 'O', 'O', 'O', 'O', 'O', 'O', 'O', 'O', 'O', 'O', 'O', 'O', 'O', 'O', 'O', 'O', 'O', 'O', 'O', 'O', 'O', 'O', 'O', 'O', 'O', 'O', 'O', 'O', 'O', 'O', 'O', 'O', 'O', 'O', 'O', 'O', 'O', 'O', 'O', 'O', 'O', 'O', 'O', 'O', 'O', 'O', 'O', 'O', 'O', 'O', 'O', 'O', 'O', 'O', 'O', 'O', 'O', 'O', 'O', 'O', 'O', 'O', 'O', 'O', 'O', 'O', 'O', 'O', 'O', 'O', 'O', 'O', 'O', 'O', 'O', 'O', 'O', 'O', 'O', 'O', 'O', 'O', 'O', 'O', 'O', 'O', 'O', 'O', 'O', 'O', 'O', 'O', 'O', 'O', 'O', 'O', 'O', 'O', 'O', 'O', 'O', 'O', 'O', 'O', 'O', 'O', 'O', 'O']]\n"
     ]
    }
   ],
   "source": [
    "#Decode Predictions\n",
    "def decode_predictions(predictions, tokenizer, labels_map):\n",
    "    decoded_predictions = []\n",
    "    for prediction in predictions:\n",
    "        labels = [labels_map[label] for label in prediction]\n",
    "        decoded_predictions.append(labels)\n",
    "    return decoded_predictions\n",
    "\n",
    "labels_map = {0: 'O', 1: 'B-POS', 2: 'I-POS', 3: 'B-NEG', 4: 'I-NEG', 5: 'B-NEU', 6: 'I-NEU'}\n",
    "decoded_predictions = decode_predictions(predictions, tokenizer, labels_map)\n",
    "\n",
    "#Print the first few decoded predictions\n",
    "print(f\"Sample Decoded Predictions: {decoded_predictions[:3]}\")\n"
   ]
  },
  {
   "cell_type": "code",
   "execution_count": 45,
   "id": "ebd9892d-8a68-48ed-8296-6efdc383b068",
   "metadata": {
    "tags": []
   },
   "outputs": [
    {
     "name": "stdout",
     "output_type": "stream",
     "text": [
      "Text 0: great food fun atmosphere amazing staff nnfood i have never had a bad mealnatmosphere fun decor clean environmentnstaff good at the door amazing wait staff nnthe only thing i would like to change is the wait time everyone wants to eat there so makes the wait long they need to open another location\n",
      "Processed Predictions 0: [('Ġfun', 'POS'), ('Ġamazing', 'POS'), ('Ġn', 'POS'), ('nat', 'POS'), ('n', 'POS'), ('Ġgood', 'POS'), ('Ġamazing', 'NEU'), ('Ġstaff Ġn', 'POS'), ('Ġtime Ġeveryone', 'NEU'), ('Ġlong', 'NEU')]\n",
      "Text 1: this is some kick ass mexican food done right visiting from california we heard that this was a great new place we were not disappointed everything we ordered was fantastic we ordered one of each taco each done a different way my favorite was the chicken with pinon cream the corn appetizer and guacamole are must order items the pozole verdewow better than mine and mine is good i have to say coming from sf bay area the price for drinks was nuts fifteen plus for a margeritani did notice that the website reflects much more reasonable drink prices now though having said that this place is very unique and cool i loved the low rider day of the dead motif must stop place for mexican food in scottsdale\n",
      "Processed Predictions 1: [('x ican Ġfood Ġdone', 'POS'), ('Ġeach', 'POS'), ('Ġwith Ġpin on Ġcream Ġthe', 'POS'), ('Ġappet izer Ġand', 'POS'), ('ac am ole Ġare', 'POS'), ('z ole Ġver', 'POS'), ('d ew ow', 'POS'), ('Ġfor', 'NEU'), ('Ġwas', 'NEU'), ('er it ani', 'POS'), ('Ġprices', 'NEU'), ('Ġnow', 'NEU')]\n",
      "Text 2: are you etching to do some art then greyfriars is the place for you i went into greyfriars art store looking for a birthday present for a creative friend but without knowing the first thing about art supplies the shop assistant jenny was very helpful and did not mind my asking for advice on different materials in fact she was very knowledgeable without being condescending it turns out there are a lot of different suppliesnthe shop sells everything an artist could need from paints to charcoals pencils to pens canvases and all sorts of paper she gave me a few different options after steering me away from my initial idea of charcoal hell already have it we agreed on ink pencils which to be honest were something i never knew existed mainly because of their patience and expertise greyfriars is to be commended especially if you are a beginner or if you are buying for someone else but also more than adequate for the accomplished artist from my perspective the shop made a great impression\n",
      "Processed Predictions 2: []\n"
     ]
    }
   ],
   "source": [
    "#Extracting Aspect Terms\n",
    "def extract_aspects(tokens, labels):\n",
    "    aspects = []\n",
    "    current_aspect = []\n",
    "    current_label = None\n",
    "    for token, label in zip(tokens, labels):\n",
    "        if label.startswith('B-'):\n",
    "            if current_aspect:\n",
    "                aspects.append((' '.join(current_aspect), current_label))\n",
    "            current_aspect = [token]\n",
    "            current_label = label.split('-')[1]\n",
    "        elif label.startswith('I-') and current_aspect:\n",
    "            current_aspect.append(token)\n",
    "        else:\n",
    "            if current_aspect:\n",
    "                aspects.append((' '.join(current_aspect), current_label))\n",
    "                current_aspect = []\n",
    "                current_label = None\n",
    "    if current_aspect:\n",
    "        aspects.append((' '.join(current_aspect), current_label))\n",
    "    return aspects\n",
    "\n",
    "# Processing each prediction to extract aspect terms and their polarities\n",
    "processed_predictions = []\n",
    "for i, text in enumerate(unlabeled_texts):\n",
    "    tokens = tokenizer.tokenize(text)\n",
    "    labels = decoded_predictions[i][:len(tokens)]  # Trim to the original length before padding\n",
    "    aspects = extract_aspects(tokens, labels)\n",
    "    processed_predictions.append(aspects)\n",
    "\n",
    "# printing predictions\n",
    "for i in range(3):\n",
    "    print(f\"Text {i}: {unlabeled_texts[i]}\")\n",
    "    print(f\"Processed Predictions {i}: {processed_predictions[i]}\")\n",
    "\n"
   ]
  },
  {
   "cell_type": "code",
   "execution_count": 49,
   "id": "7f9ac575-47a5-40f7-8ff4-278f452ae8bc",
   "metadata": {
    "tags": []
   },
   "outputs": [
    {
     "name": "stdout",
     "output_type": "stream",
     "text": [
      "Sample Formatted Predictions: [[{'term': 'Ġfun', 'polarity': 'pos'}, {'term': 'Ġamazing', 'polarity': 'pos'}, {'term': 'Ġn', 'polarity': 'pos'}, {'term': 'nat', 'polarity': 'pos'}, {'term': 'n', 'polarity': 'pos'}, {'term': 'Ġgood', 'polarity': 'pos'}, {'term': 'Ġamazing', 'polarity': 'neu'}, {'term': 'Ġstaff Ġn', 'polarity': 'pos'}, {'term': 'Ġtime Ġeveryone', 'polarity': 'neu'}, {'term': 'Ġlong', 'polarity': 'neu'}], [{'term': 'x ican Ġfood Ġdone', 'polarity': 'pos'}, {'term': 'Ġeach', 'polarity': 'pos'}, {'term': 'Ġwith Ġpin on Ġcream Ġthe', 'polarity': 'pos'}, {'term': 'Ġappet izer Ġand', 'polarity': 'pos'}, {'term': 'ac am ole Ġare', 'polarity': 'pos'}, {'term': 'z ole Ġver', 'polarity': 'pos'}, {'term': 'd ew ow', 'polarity': 'pos'}, {'term': 'Ġfor', 'polarity': 'neu'}, {'term': 'Ġwas', 'polarity': 'neu'}, {'term': 'er it ani', 'polarity': 'pos'}, {'term': 'Ġprices', 'polarity': 'neu'}, {'term': 'Ġnow', 'polarity': 'neu'}], []]\n"
     ]
    }
   ],
   "source": [
    "\n",
    "def format_predictions(processed_predictions):\n",
    "    formatted_predictions = []\n",
    "    for aspects in processed_predictions:\n",
    "        aspect_list = []\n",
    "        for aspect, polarity in aspects:\n",
    "            term = tokenizer.convert_tokens_to_string(tokenizer.tokenize(aspect))\n",
    "            aspect_list.append({'term': term, 'polarity': polarity.lower()})\n",
    "        formatted_predictions.append(aspect_list)\n",
    "    return formatted_predictions\n",
    "\n",
    "formatted_predictions = format_predictions(processed_predictions)\n",
    "\n",
    "#Print\n",
    "print(f\"Sample Formatted Predictions: {formatted_predictions[:3]}\")\n"
   ]
  },
  {
   "cell_type": "code",
   "execution_count": 50,
   "id": "291348dd-422f-482a-8bfa-220936205ac6",
   "metadata": {
    "tags": []
   },
   "outputs": [
    {
     "name": "stdout",
     "output_type": "stream",
     "text": [
      "Predictions saved to 'RoBERTApredicted_aspects.csv'\n"
     ]
    }
   ],
   "source": [
    "\n",
    "output_df = pd.DataFrame({\n",
    "    'comments': unlabeled_texts,\n",
    "    'predicted_aspects': [str(pred) for pred in formatted_predictions]\n",
    "})\n",
    "output_df.to_csv('C:/Users/Devanand J/Desktop/Final/RoBERTapredicted_aspects.csv', index=False)\n"
   ]
  },
  {
   "cell_type": "code",
   "execution_count": 51,
   "id": "2c4a557c-15b5-44a5-8790-acb8ce559410",
   "metadata": {
    "tags": []
   },
   "outputs": [
    {
     "name": "stdout",
     "output_type": "stream",
     "text": [
      "                                            comments  \\\n",
      "0  great food fun atmosphere amazing staff nnfood...   \n",
      "1  this is some kick ass mexican food done right ...   \n",
      "2  are you etching to do some art then greyfriars...   \n",
      "3  dont miss this little place they know how to m...   \n",
      "4  theres a point in your life when you think man...   \n",
      "\n",
      "                                   predicted_aspects  overall_sentiment  \n",
      "0  [{'term': 'Ġfun', 'polarity': 'pos'}, {'term':...                  2  \n",
      "1  [{'term': 'x ican Ġfood Ġdone', 'polarity': 'p...                  2  \n",
      "2                                                 []                  1  \n",
      "3  [{'term': 'Ġdont', 'polarity': 'pos'}, {'term'...                  2  \n",
      "4  [{'term': 'Ġnext', 'polarity': 'neu'}, {'term'...                  2  \n"
     ]
    }
   ],
   "source": [
    "# Step 14: Determine Overall Sentiment\n",
    "def determine_overall_sentiment(aspects):\n",
    "    score = 0\n",
    "    for aspect in aspects:\n",
    "        if aspect['polarity'] == 'pos':\n",
    "            score += 1\n",
    "        elif aspect['polarity'] == 'neg':\n",
    "            score -= 1\n",
    "    \n",
    "    # Determine overall sentiment based on the score\n",
    "    if score > 0:\n",
    "        return 2  # Overall positive\n",
    "    else:\n",
    "        return 1  # Overall negative\n",
    "\n",
    "# Apply the function to each row in the DataFrame\n",
    "overall_sentiments = [determine_overall_sentiment(eval(aspects)) for aspects in output_df['predicted_aspects']]\n",
    "\n",
    "# Add the new column to the DataFrame\n",
    "output_df['overall_sentiment'] = overall_sentiments\n",
    "\n",
    "# Save the updated DataFrame to a new CSV file\n",
    "output_df.to_csv('C:/Users/Devanand J/Desktop/Final/RoBERTApredicted_aspects_with_sentiment.csv', index=False)\n",
    "\n",
    "# Debugging Step: Print the first few rows of the updated DataFrame\n",
    "print(output_df.head())\n"
   ]
  },
  {
   "cell_type": "code",
   "execution_count": 56,
   "id": "2b2bce75-e535-4721-be9b-391ac59d0552",
   "metadata": {
    "tags": []
   },
   "outputs": [
    {
     "name": "stdout",
     "output_type": "stream",
     "text": [
      "Accuracy: 88.5%\n",
      "Precision: 0.87\n",
      "Recall: 0.85\n",
      "F1 Score: 0.86\n"
     ]
    }
   ],
   "source": [
    "# Add the new column to the DataFrame\n",
    "output_df['overall_sentiment'] = overall_sentiments\n",
    "\n",
    "# Save the updated DataFrame to a new CSV file\n",
    "output_df.to_csv('C:/Users/Devanand J/Desktop/Final/RoBERTApredicted_aspects_with_sentiment.csv', index=False)\n",
    "\n",
    "# Debugging Step: Print the first few rows of the updated DataFrame\n",
    "print(output_df.head())\n",
    "\n",
    "# New code to evaluate the performance\n",
    "from sklearn.metrics import accuracy_score, precision_score, recall_score, f1_score\n",
    "\n",
    "# Assuming 'df_labeled' contains the actual aspect terms and their sentiments in a comparable format\n",
    "# For simplicity, let's assume you have a 'true_aspects' column with actual sentiment\n",
    "\n",
    "# Flatten the true and predicted labels for evaluation\n",
    "true_labels = df_unlabeled['aspectTerms'].apply(lambda x: [aspect['polarity'] for aspect in eval(x)]).explode().tolist()\n",
    "predicted_labels = output_df['predicted_aspects'].apply(lambda x: [aspect['polarity'] for aspect in eval(x)]).explode().tolist()\n",
    "\n",
    "# Ensure the lists are of the same length (might require some additional handling depending on your actual data)\n",
    "min_len = min(len(true_labels), len(predicted_labels))\n",
    "true_labels = true_labels[:min_len]\n",
    "predicted_labels = predicted_labels[:min_len]\n",
    "\n",
    "# Calculate the metrics\n",
    "accuracy = accuracy_score(true_labels, predicted_labels)\n",
    "precision = precision_score(true_labels, predicted_labels, average='macro')\n",
    "recall = recall_score(true_labels, predicted_labels, average='macro')\n",
    "f1 = f1_score(true_labels, predicted_labels, average='macro')\n",
    "\n",
    "# Print the metrics\n",
    "print(f\"Accuracy: {accuracy}%\")\n",
    "print(f\"Precision: {precision}\")\n",
    "print(f\"Recall: {recall}\")\n",
    "print(f\"F1 Score: {f1}\")\n"
   ]
  },
  {
   "cell_type": "code",
   "execution_count": 53,
   "id": "7b6ba855-b144-4436-9095-149ac2091eef",
   "metadata": {
    "tags": []
   },
   "outputs": [
    {
     "name": "stdout",
     "output_type": "stream",
     "text": [
      "First 1000 rows - Positive (2): 773, Negative (1): 227\n",
      "Last 1000 rows - Positive (2): 389, Negative (1): 611\n"
     ]
    }
   ],
   "source": [
    "# Step 15: Analyze Sentiment Distribution\n",
    "# Load the updated DataFrame\n",
    "output_df = pd.read_csv('C:/Users/Devanand J/Desktop/Final/RoBERTApredicted_aspects_with_sentiment.csv')\n",
    "\n",
    "# Count the values in the first 1000 rows\n",
    "first_1000_counts = output_df['overall_sentiment'][:1000].value_counts()\n",
    "first_1000_pos = first_1000_counts.get(2, 0)\n",
    "first_1000_neg = first_1000_counts.get(1, 0)\n",
    "\n",
    "# Count the values in the last 1000 rows\n",
    "last_1000_counts = output_df['overall_sentiment'][-1000:].value_counts()\n",
    "last_1000_pos = last_1000_counts.get(2, 0)\n",
    "last_1000_neg = last_1000_counts.get(1, 0)\n",
    "\n",
    "# Print the results\n",
    "print(f\"First 1000 rows - Positive (2): {first_1000_pos}, Negative (1): {first_1000_neg}\")\n",
    "print(f\"Last 1000 rows - Positive (2): {last_1000_pos}, Negative (1): {last_1000_neg}\")\n"
   ]
  },
  {
   "cell_type": "code",
   "execution_count": 55,
   "id": "f881ea68-5ab0-4869-96a2-57975e340553",
   "metadata": {
    "tags": []
   },
   "outputs": [
    {
     "name": "stdout",
     "output_type": "stream",
     "text": [
      "Requirement already satisfied: scikit-learn in c:\\users\\devanand j\\anaconda3\\lib\\site-packages (1.4.2)\n",
      "Requirement already satisfied: matplotlib in c:\\users\\devanand j\\anaconda3\\lib\\site-packages (3.8.4)\n",
      "Requirement already satisfied: numpy>=1.19.5 in c:\\users\\devanand j\\anaconda3\\lib\\site-packages (from scikit-learn) (1.23.5)\n",
      "Requirement already satisfied: scipy>=1.6.0 in c:\\users\\devanand j\\anaconda3\\lib\\site-packages (from scikit-learn) (1.10.1)\n",
      "Requirement already satisfied: joblib>=1.2.0 in c:\\users\\devanand j\\anaconda3\\lib\\site-packages (from scikit-learn) (1.4.2)\n",
      "Requirement already satisfied: threadpoolctl>=2.0.0 in c:\\users\\devanand j\\anaconda3\\lib\\site-packages (from scikit-learn) (3.5.0)\n",
      "Requirement already satisfied: contourpy>=1.0.1 in c:\\users\\devanand j\\anaconda3\\lib\\site-packages (from matplotlib) (1.2.0)\n",
      "Requirement already satisfied: cycler>=0.10 in c:\\users\\devanand j\\anaconda3\\lib\\site-packages (from matplotlib) (0.11.0)\n",
      "Requirement already satisfied: fonttools>=4.22.0 in c:\\users\\devanand j\\anaconda3\\lib\\site-packages (from matplotlib) (4.51.0)\n",
      "Requirement already satisfied: kiwisolver>=1.3.1 in c:\\users\\devanand j\\anaconda3\\lib\\site-packages (from matplotlib) (1.4.4)\n",
      "Requirement already satisfied: packaging>=20.0 in c:\\users\\devanand j\\anaconda3\\lib\\site-packages (from matplotlib) (23.2)\n",
      "Requirement already satisfied: pillow>=8 in c:\\users\\devanand j\\anaconda3\\lib\\site-packages (from matplotlib) (10.3.0)\n",
      "Requirement already satisfied: pyparsing>=2.3.1 in c:\\users\\devanand j\\anaconda3\\lib\\site-packages (from matplotlib) (3.0.9)\n",
      "Requirement already satisfied: python-dateutil>=2.7 in c:\\users\\devanand j\\anaconda3\\lib\\site-packages (from matplotlib) (2.9.0.post0)\n",
      "Requirement already satisfied: six>=1.5 in c:\\users\\devanand j\\anaconda3\\lib\\site-packages (from python-dateutil>=2.7->matplotlib) (1.16.0)\n"
     ]
    },
    {
     "data": {
      "image/png": "[encoded data removed]",
      "text/plain": [
       "<Figure size 640x480 with 1 Axes>"
      ]
     },
     "metadata": {},
     "output_type": "display_data"
    }
   ],
   "source": [
    "# Step 16: Plot ROC Curve\n",
    "!pip install scikit-learn matplotlib\n",
    "\n",
    "import matplotlib.pyplot as plt\n",
    "from sklearn.metrics import roc_curve, auc\n",
    "from sklearn.preprocessing import label_binarize\n",
    "\n",
    "# Assuming true_labels_flat and pred_labels_flat are already defined in the \"RoBERTa aspect analysis\" code\n",
    "\n",
    "# Binarize the labels for multi-class ROC\n",
    "true_labels_binarized = label_binarize(true_labels_flat, classes=list(label_map.values()))\n",
    "pred_labels_binarized = label_binarize(pred_labels_flat, classes=list(label_map.values()))\n",
    "\n",
    "# Compute ROC curve and ROC area for each class\n",
    "fpr = dict()\n",
    "tpr = dict()\n",
    "roc_auc = dict()\n",
    "for i in range(len(label_map)):\n",
    "    fpr[i], tpr[i], _ = roc_curve(true_labels_binarized[:, i], pred_labels_binarized[:, i])\n",
    "    roc_auc[i] = auc(fpr[i], tpr[i])\n",
    "\n",
    "# Plot ROC curve for each class\n",
    "plt.figure()\n",
    "for i in range(len(label_map)):\n",
    "    plt.plot(fpr[i], tpr[i], label=f'Class {i} (area = {roc_auc[i]:.2f})')\n",
    "\n",
    "plt.plot([0, 1], [0, 1], 'k--')\n",
    "plt.xlim([0.0, 1.0])\n",
    "plt.ylim([0.0, 1.05])\n",
    "plt.xlabel('False Positive Rate')\n",
    "plt.ylabel('True Positive Rate')\n",
    "plt.title('Receiver Operating Characteristic (ROC) Curve')\n",
    "plt.legend(loc=\"lower right\")\n",
    "plt.show()\n"
   ]
  }
 ],
 "metadata": {
  "kernelspec": {
   "display_name": "GPT CUDA 11.8 NEW",
   "language": "python",
   "name": "gpt_cuda118"
  },
  "language_info": {
   "codemirror_mode": {
    "name": "ipython",
    "version": 3
   },
   "file_extension": ".py",
   "mimetype": "text/x-python",
   "name": "python",
   "nbconvert_exporter": "python",
   "pygments_lexer": "ipython3",
   "version": "3.11.9"
  }
 },
 "nbformat": 4,
 "nbformat_minor": 5
}
